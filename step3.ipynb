{
 "cells": [
  {
   "cell_type": "markdown",
   "metadata": {},
   "source": [
    "# Step 3: 12-D Integral Based on Momentum\n",
    "### Start by importing packages for easy functions & declare constants.\n",
    "<font color = 'red'><b><u>NumPy</u></b></font> is a library for the Python programming language, adding support for large, multi-dimensional arrays and matrices, along with a large collection of high-level mathematical functions to operate on these arrays. It also contains functionality for generating an array of random numbers."
   ]
  },
  {
   "cell_type": "code",
   "execution_count": 83,
   "metadata": {},
   "outputs": [],
   "source": [
    "import numpy as np\n",
    "\n",
    "m = 1\n",
    "gamma = 0.1*m\n",
    "k0 = 1\n",
    "\n",
    "num_val = 999999"
   ]
  },
  {
   "cell_type": "markdown",
   "metadata": {},
   "source": [
    "### A quick note on NumPy's random.uniform() function:\n",
    "We can use NumPy's <font color = 'red'>random.<b>uniform</b>(low, high, size)</font> to populate an array of size <font color = 'red'>size</font> with random values from <font color = 'red'>low</font> to <font color = 'red'>high</font>. \"Uniform\" indicates that the probability of returning any one values is the same for all values in the distribution, <sup>1</sup>&frasl;<sub>b-a</sub>\n",
    "\n",
    "You can see below that we can display up to 51 decimal places of \"precision,\" but NumPy does not actually offer anywhere near this amount of precision. It is a relic of a workspace with limited bits."
   ]
  },
  {
   "cell_type": "code",
   "execution_count": 81,
   "metadata": {},
   "outputs": [
    {
     "name": "stdout",
     "output_type": "stream",
     "text": [
      "5 random values from -1 to 1 in a list:  [-0.76177308 -0.80823165 -0.23017025 -0.92435261  0.00398951]\n",
      "A full random value:  0.03947250752063613532527597271837294101715087890625\n"
     ]
    }
   ],
   "source": [
    "print('5 random values from -1 to 1 in a list: ', np.random.uniform(-1,1,5))\n",
    "\n",
    "print('A full random value: ', format(np.random.uniform(-1,1,5)[1], '.51g'))"
   ]
  },
  {
   "cell_type": "markdown",
   "metadata": {},
   "source": [
    "### Declaring the 12 independent variables\n",
    "We have four outgoing fermions with three axes for momentum. For now, we assume the \"<b>importance sampling</b>\" can be done by simply choosing momentum to be 1 for these outgoing particles: This adds extra simplicity because every variable can independently chosen randomly along the interval -1 to 1."
   ]
  },
  {
   "cell_type": "code",
   "execution_count": 84,
   "metadata": {},
   "outputs": [
    {
     "data": {
      "text/plain": [
       "[array([ 0.8930473 , -0.21078197, -0.57475676, ..., -0.96534587,\n",
       "         0.4346825 ,  0.07685817]),\n",
       " array([-0.55100944,  0.65389919, -0.40721107, ...,  0.49876431,\n",
       "         0.34956958,  0.03452505]),\n",
       " array([-0.62882756,  0.79924555, -0.10286063, ...,  0.54441221,\n",
       "        -0.89684022, -0.78554026])]"
      ]
     },
     "execution_count": 84,
     "metadata": {},
     "output_type": "execute_result"
    }
   ],
   "source": [
    "def pop_ferm(num_val):\n",
    "    return [np.random.uniform(-1,1,num_val), np.random.uniform(-1,1,num_val), np.random.uniform(-1,1,num_val)]\n",
    "\n",
    "pop_ferm(num_val)"
   ]
  },
  {
   "cell_type": "markdown",
   "metadata": {},
   "source": [
    "### Declaring the 6 momenta of Higgsons\n",
    "The first step is to populate the list momenta of the A and B Higgson"
   ]
  },
  {
   "cell_type": "code",
   "execution_count": 92,
   "metadata": {},
   "outputs": [
    {
     "name": "stdout",
     "output_type": "stream",
     "text": [
      "\tA particular Higgson is 33% ...\n",
      "\tA particular Higgson is 66% ...\n",
      "\tA particular Higgson is 100% ...\n"
     ]
    },
    {
     "data": {
      "text/plain": [
       "[array([-0.16555169,  0.20954353, -0.72309656, ..., -0.81267103,\n",
       "         0.82194207, -1.61772158]),\n",
       " array([ 0.62385234, -0.44851206, -0.64603362, ..., -0.32426192,\n",
       "         0.42248696, -0.41598312]),\n",
       " array([ 0.33244354,  0.50651877, -0.34491453, ..., -1.84509085,\n",
       "        -0.25159696,  0.13976289])]"
      ]
     },
     "execution_count": 92,
     "metadata": {},
     "output_type": "execute_result"
    }
   ],
   "source": [
    "def pop_higg(fermion1, fermion2):\n",
    "    array1 = np.array([a + b for a, b in zip(fermion1[0], fermion2[0])])\n",
    "    print('\\tA particular Higgson is 33% ...')\n",
    "    array2 = np.array([a + b for a, b in zip(fermion1[1], fermion2[1])])\n",
    "    print('\\tA particular Higgson is 66% ...')\n",
    "    array3 = np.array([a + b for a, b in zip(fermion1[2], fermion2[2])])\n",
    "    print('\\tA particular Higgson is 100% ...')\n",
    "    return [array1, array2, array3]\n",
    "\n",
    "fermi = pop_ferm(num_val)\n",
    "pop_higg(fermi, fermi)"
   ]
  },
  {
   "cell_type": "markdown",
   "metadata": {},
   "source": [
    "### Now we can define the actual calculation\n",
    "We can pass 2D higgsonA and higgsonB arrays (2D because they have a random list for x, y, and z directions), and the various constants k0, m, and gamma."
   ]
  },
  {
   "cell_type": "code",
   "execution_count": 99,
   "metadata": {},
   "outputs": [],
   "source": [
    "def do_calc(higgsonA, higgsonB, k0, m, gamma):\n",
    "    tracker=20\n",
    "    \n",
    "    squaresA = []\n",
    "    squaresB = []\n",
    "    for i in range(0, len(higgsonA[0])):\n",
    "        squaresA.append(higgsonA[0][i]**2 + higgsonA[1][i]**2 + higgsonA[2][i]**2)\n",
    "        squaresB.append(higgsonB[0][i]**2 + higgsonB[1][i]**2 + higgsonB[2][i]**2)\n",
    "        \n",
    "        if tracker <= 100*i/(len(higgsonA[0])-1):\n",
    "            print('Squares calculated (' + str(tracker) + '%) ...' )\n",
    "            tracker += 20\n",
    "    \n",
    "    tracker=10\n",
    "    function = []\n",
    "    for i in range(0, len(higgsonA[0])):\n",
    "        value1 = (k0**2-squaresA[i]-m**2)**2 + (m*gamma)**2\n",
    "        value2 = (k0**2-squaresB[i]-m**2)**2 + (m*gamma)**2\n",
    "        function.append(1/value1 + 1/value2)\n",
    "        \n",
    "        if tracker <= 100*i/(len(higgsonA[0])-1):\n",
    "            print('Function calculated (' + str(tracker) + '%) ...' )\n",
    "            tracker += 10\n",
    "        \n",
    "    return np.sum(function)/num_val"
   ]
  },
  {
   "cell_type": "markdown",
   "metadata": {},
   "source": [
    "# Now the actual calculation\n",
    "### Also contained here are all manipulable constants. It will generate new arrays every time."
   ]
  },
  {
   "cell_type": "code",
   "execution_count": 100,
   "metadata": {},
   "outputs": [
    {
     "name": "stdout",
     "output_type": "stream",
     "text": [
      "Fermions populated (25%) ...\n",
      "Fermions populated (50%) ...\n",
      "Fermions populated (75%) ...\n",
      "Fermions populated (100%) ...\n",
      "\tA particular Higgson is 33% ...\n",
      "\tA particular Higgson is 66% ...\n",
      "\tA particular Higgson is 100% ...\n",
      "Higgsons populated (50%) ...\n",
      "\tA particular Higgson is 33% ...\n",
      "\tA particular Higgson is 66% ...\n",
      "\tA particular Higgson is 100% ...\n",
      "Higgsons populated (100%) ...\n",
      "Squares calculated (20%) ...\n",
      "Squares calculated (40%) ...\n",
      "Squares calculated (60%) ...\n",
      "Squares calculated (80%) ...\n",
      "Squares calculated (100%) ...\n",
      "Function calculated (10%) ...\n",
      "Function calculated (20%) ...\n",
      "Function calculated (30%) ...\n",
      "Function calculated (40%) ...\n",
      "Function calculated (50%) ...\n",
      "Function calculated (60%) ...\n",
      "Function calculated (70%) ...\n",
      "Function calculated (80%) ...\n",
      "Function calculated (90%) ...\n",
      "Function calculated (100%) ...\n",
      "\n",
      "Final answer: \n",
      "5.8990671546443725\n"
     ]
    }
   ],
   "source": [
    "# All of the current manipulable constants\n",
    "num_val = 999999\n",
    "m = 1\n",
    "gamma = 0.1*m\n",
    "k0 = 1\n",
    "\n",
    "# Randomize the fermions\n",
    "fermion1 = pop_ferm(num_val)\n",
    "print('Fermions populated (25%) ...')\n",
    "fermion2 = pop_ferm(num_val)\n",
    "print('Fermions populated (50%) ...')\n",
    "fermion3 = pop_ferm(num_val)\n",
    "print('Fermions populated (75%) ...')\n",
    "fermion4 = pop_ferm(num_val)\n",
    "print('Fermions populated (100%) ...')\n",
    "\n",
    "# Populate the higgsons with the newly randomized fermions\n",
    "higgsonA = pop_higg(fermion1, fermion2)\n",
    "print('Higgsons populated (50%) ...')\n",
    "higgsonB = pop_higg(fermion3, fermion4)\n",
    "print('Higgsons populated (100%) ...')\n",
    "\n",
    "# Do the calculation and print it\n",
    "print('\\nFinal answer: \\n' + str(do_calc(higgsonA, higgsonB, k0, m, gamma)))"
   ]
  },
  {
   "cell_type": "markdown",
   "metadata": {},
   "source": [
    "# The cell below contains only the single-file executable sent out as a .py: It is unnecessary if you have access to this notebook."
   ]
  },
  {
   "cell_type": "code",
   "execution_count": 101,
   "metadata": {
    "collapsed": true,
    "jupyter": {
     "outputs_hidden": true,
     "source_hidden": true
    }
   },
   "outputs": [
    {
     "name": "stdout",
     "output_type": "stream",
     "text": [
      "Fermions populated (25%) ...\n",
      "Fermions populated (50%) ...\n",
      "Fermions populated (75%) ...\n",
      "Fermions populated (100%) ...\n",
      "\tA particular Higgson is 33% ...\n",
      "\tA particular Higgson is 66% ...\n",
      "\tA particular Higgson is 100% ...\n",
      "Higgsons populated (50%) ...\n",
      "\tA particular Higgson is 33% ...\n",
      "\tA particular Higgson is 66% ...\n",
      "\tA particular Higgson is 100% ...\n",
      "Higgsons populated (100%) ...\n",
      "Squares calculated (20%) ...\n",
      "Squares calculated (40%) ...\n",
      "Squares calculated (60%) ...\n",
      "Squares calculated (80%) ...\n",
      "Squares calculated (100%) ...\n",
      "Function calculated (10%) ...\n",
      "Function calculated (20%) ...\n",
      "Function calculated (30%) ...\n",
      "Function calculated (40%) ...\n",
      "Function calculated (50%) ...\n",
      "Function calculated (60%) ...\n",
      "Function calculated (70%) ...\n",
      "Function calculated (80%) ...\n",
      "Function calculated (90%) ...\n",
      "Function calculated (100%) ...\n",
      "\n",
      "Final answer: \n",
      "5.879537215989484\n"
     ]
    }
   ],
   "source": [
    "import numpy as np\n",
    "\n",
    "m = 1\n",
    "gamma = 0.1*m\n",
    "k0 = 1\n",
    "\n",
    "num_val = 999999\n",
    "\n",
    "def pop_ferm(num_val):\n",
    "    return [np.random.uniform(-1,1,num_val), np.random.uniform(-1,1,num_val), np.random.uniform(-1,1,num_val)]\n",
    "\n",
    "def pop_higg(fermion1, fermion2):\n",
    "    array1 = np.array([a + b for a, b in zip(fermion1[0], fermion2[0])])\n",
    "    print('\\tA particular Higgson is 33% ...')\n",
    "    array2 = np.array([a + b for a, b in zip(fermion1[1], fermion2[1])])\n",
    "    print('\\tA particular Higgson is 66% ...')\n",
    "    array3 = np.array([a + b for a, b in zip(fermion1[2], fermion2[2])])\n",
    "    print('\\tA particular Higgson is 100% ...')\n",
    "    return [array1, array2, array3]\n",
    "\n",
    "def do_calc(higgsonA, higgsonB, k0, m, gamma):\n",
    "    tracker=20\n",
    "    \n",
    "    squaresA = []\n",
    "    squaresB = []\n",
    "    for i in range(0, len(higgsonA[0])):\n",
    "        squaresA.append(higgsonA[0][i]**2 + higgsonA[1][i]**2 + higgsonA[2][i]**2)\n",
    "        squaresB.append(higgsonB[0][i]**2 + higgsonB[1][i]**2 + higgsonB[2][i]**2)\n",
    "        \n",
    "        if tracker <= 100*i/(len(higgsonA[0])-1):\n",
    "            print('Squares calculated (' + str(tracker) + '%) ...' )\n",
    "            tracker += 20\n",
    "    \n",
    "    tracker=10\n",
    "    function = []\n",
    "    for i in range(0, len(higgsonA[0])):\n",
    "        value1 = (k0**2-squaresA[i]-m**2)**2 + (m*gamma)**2\n",
    "        value2 = (k0**2-squaresB[i]-m**2)**2 + (m*gamma)**2\n",
    "        function.append(1/value1 + 1/value2)\n",
    "        \n",
    "        if tracker <= 100*i/(len(higgsonA[0])-1):\n",
    "            print('Function calculated (' + str(tracker) + '%) ...' )\n",
    "            tracker += 10\n",
    "        \n",
    "    return np.sum(function)/num_val\n",
    "\n",
    "\n",
    "# Randomize the fermions\n",
    "fermion1 = pop_ferm(num_val)\n",
    "print('Fermions populated (25%) ...')\n",
    "fermion2 = pop_ferm(num_val)\n",
    "print('Fermions populated (50%) ...')\n",
    "fermion3 = pop_ferm(num_val)\n",
    "print('Fermions populated (75%) ...')\n",
    "fermion4 = pop_ferm(num_val)\n",
    "print('Fermions populated (100%) ...')\n",
    "\n",
    "# Populate the higgsons with the newly randomized fermions\n",
    "higgsonA = pop_higg(fermion1, fermion2)\n",
    "print('Higgsons populated (50%) ...')\n",
    "higgsonB = pop_higg(fermion3, fermion4)\n",
    "print('Higgsons populated (100%) ...')\n",
    "\n",
    "# Do the calculation and print it\n",
    "print('\\nFinal answer: \\n' + str(do_calc(higgsonA, higgsonB, k0, m, gamma)))"
   ]
  }
 ],
 "metadata": {
  "kernelspec": {
   "display_name": "Python 3",
   "language": "python",
   "name": "python3"
  },
  "language_info": {
   "codemirror_mode": {
    "name": "ipython",
    "version": 3
   },
   "file_extension": ".py",
   "mimetype": "text/x-python",
   "name": "python",
   "nbconvert_exporter": "python",
   "pygments_lexer": "ipython3",
   "version": "3.7.6"
  }
 },
 "nbformat": 4,
 "nbformat_minor": 4
}
