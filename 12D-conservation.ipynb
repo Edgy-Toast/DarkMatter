{
 "cells": [
  {
   "cell_type": "markdown",
   "metadata": {},
   "source": [
    "# Three functions define how to generate the (px, py, pz, p0) arrays for four fermions\n",
    "<font color='gray'>You can run this cell to generate a table of the four fermions' four elements as many times as you like.</font>\n",
    "### pop_ferm(bound)\n",
    "This function passes in the upper- and lower-bounds for our random distribution. Then with these bounds, it generates a random (px, py, pz, p0) array for a single fermion and returns it. Called by pop_ferm_array(bound).\n",
    "### pop_ferm4(ferm1, ferm2, ferm3)\n",
    "This function passes in fermions 1, 2, and 3 as (px, py, pz, p0) arrays. Using these fermions, we calculate a fourth fermion's (px, py, pz, p0). Note: This function does not check for conservation laws. Called by pop_ferm_array(bound).\n",
    "### normalize(ferm1_unnorm, ferm2_unnorm, ferm3_unnorm, ferm4_unnorm)\n",
    "This function generates a normalization factor (simple addition of the p0 elements for each fermion), divides every element of the arrays by this normalization factor then returns all of the fermion arrays. Called by pop_ferm_array(bound).\n",
    "### pop_ferm_array(bound)\n",
    "This function will do the following until we successfully satisfy conservation laws:\n",
    "<ul>\n",
    "    <li>Generate 3 fermions with pop_ferm(bound) -- Called ferm1, ferm2, ferm3.</li>\n",
    "    <li>Generate the 4th fermion with pop_ferm4(ferm1, ferm2, ferm3) -- Called ferm4.</li>\n",
    "    <li>Check that px, py, pz of ferm4 are less than 1 for momentum laws.</li>\n",
    "</ul>\n",
    "This function calls pop_ferm(bound) and pop_ferm4(ferm1, ferm2, ferm3) such that we can get all four fermions satisfying momentum and energy conservation laws with simply:\n",
    "ferm1, ferm2, ferm3, ferm4 = pop_ferm_array(bound)"
   ]
  },
  {
   "cell_type": "code",
   "execution_count": 22,
   "metadata": {},
   "outputs": [
    {
     "name": "stdout",
     "output_type": "stream",
     "text": [
      "\t\tpx\t\t\tpy\t\t\tpz\t\t\tp0\n",
      "ferm1:\t -0.0775645057492821 \t 0.1003696944872476 \t 0.036399638676717444 \t 0.13196689668015013\n",
      "ferm2:\t 0.2969199648161693 \t -0.03373685075485435 \t -0.25604596154682396 \t 0.3935215051680507\n",
      "ferm3:\t -0.0617711115931888 \t -0.1989625562269405 \t 0.06890833014893424 \t 0.21943137189502135\n",
      "ferm1:\t 0.15758434747369837 \t -0.13232971249454725 \t -0.15073799272117228 \t 0.25508022625677795\n"
     ]
    }
   ],
   "source": [
    "def pop_ferm(bound):\n",
    "    # Generate 3 random momenta and an energy component\n",
    "    ferm_x = np.random.uniform(-1*bound, bound)\n",
    "    ferm_y = np.random.uniform(-1*bound, bound)\n",
    "    ferm_z = np.random.uniform(-1*bound, bound)\n",
    "    ferm_naught = (ferm_x**2 + ferm_y**2 + ferm_z**2)**(1/2)\n",
    "    \n",
    "    # Return these generated values as an array (p_x, p_y, p_z, p_o)\n",
    "    return [ferm_x, ferm_y, ferm_z, ferm_naught]\n",
    "\n",
    "def pop_ferm4(ferm1, ferm2, ferm3):\n",
    "    # Calculate 3 momenta based on conservation laws\n",
    "    ferm4_x = ferm1[0] + ferm2[0] + ferm3[0]\n",
    "    ferm4_y = ferm1[1] + ferm2[1] + ferm3[1]\n",
    "    ferm4_z = ferm1[2] + ferm2[2] + ferm3[2]\n",
    "    ferm4_naught = (ferm4_x**2 + ferm4_y**2 + ferm4_z**2)**(1/2)\n",
    "    \n",
    "    # Return these calculated values as an array (p_x, p_y, p_z, p_o)\n",
    "    return [ferm4_x, ferm4_y, ferm4_z, ferm4_naught]\n",
    "\n",
    "def normalize(ferm1_unnorm, ferm2_unnorm, ferm3_unnorm, ferm4_unnorm):\n",
    "    # Sum the energy components of all four fermions as the normalization factor\n",
    "    energy = (ferm1_unnorm[3]+ferm2_unnorm[3]+ferm3_unnorm[3]+ferm4_unnorm[3])\n",
    "    \n",
    "    # Populate new arrays which have the same elements as before, divided by the normalization factor\n",
    "    ferm1 = [ferm1_unnorm[0]/energy, ferm1_unnorm[1]/energy, ferm1_unnorm[2]/energy, ferm1_unnorm[3]/energy]\n",
    "    ferm2 = [ferm2_unnorm[0]/energy, ferm2_unnorm[1]/energy, ferm2_unnorm[2]/energy, ferm2_unnorm[3]/energy]\n",
    "    ferm3 = [ferm3_unnorm[0]/energy, ferm3_unnorm[1]/energy, ferm3_unnorm[2]/energy, ferm3_unnorm[3]/energy]\n",
    "    ferm4 = [ferm4_unnorm[0]/energy, ferm4_unnorm[1]/energy, ferm4_unnorm[2]/energy, ferm4_unnorm[3]/energy]\n",
    "    \n",
    "    # Return the normalized fermions\n",
    "    return ferm1, ferm2, ferm3, ferm4\n",
    "\n",
    "def pop_ferm_array(bound):\n",
    "    # A while loop is used to randomize until conservation laws are satisfied\n",
    "    while True:\n",
    "        # Initialize three (p_x, p_y, p_z, p_o) arrays to represent our randomized fermions\n",
    "        unnorm_ferm1 = pop_ferm(bound)\n",
    "        unnorm_ferm2 = pop_ferm(bound)\n",
    "        unnorm_ferm3 = pop_ferm(bound)\n",
    "        \n",
    "        # Calculate the third (p_x, p_y, p_z, p_o) array to represent the fourth fermion\n",
    "        unnorm_ferm4 = pop_ferm4(unnorm_ferm1, unnorm_ferm2, unnorm_ferm3)\n",
    "        \n",
    "        # Check conservation laws are satisfied |p_x|, |p_y|, |p_z| < 1. If not, the loop starts anew\n",
    "        if abs(unnorm_ferm4[0]) < 1 and abs(unnorm_ferm4[1]) < 1 and abs(unnorm_ferm4[2]) < 1:\n",
    "            return normalize(unnorm_ferm1, unnorm_ferm2, unnorm_ferm3, unnorm_ferm4)\n",
    "\n",
    "#---------------------------------------------------------------------------------------------------------------------------\n",
    "        \n",
    "ferm1, ferm2, ferm3, ferm4 = pop_ferm_array(1)\n",
    "\n",
    "print('\\t\\tpx\\t\\t\\tpy\\t\\t\\tpz\\t\\t\\tp0')\n",
    "print('ferm1:\\t', ferm1[0], '\\t', ferm1[1], '\\t', ferm1[2], '\\t', ferm1[3])\n",
    "print('ferm2:\\t', ferm2[0], '\\t', ferm2[1], '\\t', ferm2[2], '\\t', ferm2[3])\n",
    "print('ferm3:\\t', ferm3[0], '\\t', ferm3[1], '\\t', ferm3[2], '\\t', ferm3[3])\n",
    "print('ferm1:\\t', ferm4[0], '\\t', ferm4[1], '\\t', ferm4[2], '\\t', ferm4[3])"
   ]
  },
  {
   "cell_type": "markdown",
   "metadata": {},
   "source": [
    "# One function defines how to generate the Higgsons\n",
    "<font color='gray'>You can run this cell as many times as you like to generate a table of two Higgsons. If it returns an undefined error, run the cell above.</font>\n",
    "### pop_higg_array(ferm1, ferm2, ferm3, ferm4)\n",
    "This function takes in the four fermions as parameters and simply adds elements to generates the two Higgsons. higg1 is populated from ferm1 and ferm2, whereas higg2 is populated from ferm3 and ferm3."
   ]
  },
  {
   "cell_type": "code",
   "execution_count": 25,
   "metadata": {},
   "outputs": [
    {
     "name": "stdout",
     "output_type": "stream",
     "text": [
      "\t\tpx\t\t\tpy\t\t\tpz\t\t\tp0\n",
      "higg1:\t -0.011365293410297739 \t -0.11500062977923696 \t 0.10226835872881396 \t 0.5576292083235085\n",
      "higg2:\t 0.08102835240965028 \t -0.2727463386986535 \t 0.3351529450512805 \t 0.44237079167649157\n"
     ]
    }
   ],
   "source": [
    "def pop_higg_array(ferm1, ferm2, ferm3, ferm4):\n",
    "    # Populate the Higgson's components through addition\n",
    "    higg1 = [ferm1[0]+ferm2[0], ferm1[1]+ferm2[1], ferm1[2]+ferm2[2], ferm1[3]+ferm2[3]]\n",
    "    higg2 = [ferm3[0]+ferm4[0], ferm3[1]+ferm4[1], ferm3[2]+ferm4[2], ferm3[3]+ferm4[3]]\n",
    "    \n",
    "    # Return the Higgsons\n",
    "    return higg1, higg2\n",
    "\n",
    "#---------------------------------------------------------------------------------------------------------------------------\n",
    "\n",
    "ferm1, ferm2, ferm3, ferm4 = pop_ferm_array(1)\n",
    "higg1, higg2 = pop_higg_array(ferm1, ferm2, ferm3, ferm4)\n",
    "\n",
    "print('\\t\\tpx\\t\\t\\tpy\\t\\t\\tpz\\t\\t\\tp0')\n",
    "print('higg1:\\t', higg1[0], '\\t', higg1[1], '\\t', higg1[2], '\\t', higg1[3])\n",
    "print('higg2:\\t', higg2[0], '\\t', higg2[1], '\\t', higg2[2], '\\t', higg2[3])"
   ]
  },
  {
   "cell_type": "markdown",
   "metadata": {},
   "source": [
    "# One function handles the calculation of the function\n",
    "<font color='gray'>You can run this cell as many times as you like to see the evaluation of a single, random 12-D point. If it returns an undefined error, run the previous two cells.</font>\n",
    "### do_calc(higg1, higg2)\n",
    "This function takes in the two Higgsons as parameters, calculates the denominators for compactness, then finally returns the evaluation."
   ]
  },
  {
   "cell_type": "code",
   "execution_count": 63,
   "metadata": {},
   "outputs": [
    {
     "name": "stdout",
     "output_type": "stream",
     "text": [
      "Value: 81.39644558520233\n"
     ]
    }
   ],
   "source": [
    "def do_calc(higg1, higg2):\n",
    "    # Calculate each denominator separately for compactness\n",
    "    denom1 = (higg1[3]**2-(higg1[0]**2+higg1[1]**2+higg1[2]**2)-0.5**2)**2+0.1**2\n",
    "    denom2 = (higg2[3]**2-(higg2[0]**2+higg2[1]**2+higg2[2]**2)-0.5**2)**2+0.1**2\n",
    "    \n",
    "    # Return the result\n",
    "    return 1/denom1+1/denom2\n",
    "\n",
    "ferm1, ferm2, ferm3, ferm4 = pop_ferm_array(1)\n",
    "higg1, higg2 = pop_higg_array(ferm1, ferm2, ferm3, ferm4)\n",
    "print('Value:', do_calc(higg1, higg2))"
   ]
  },
  {
   "cell_type": "markdown",
   "metadata": {},
   "source": [
    "# Finally we define a class to handle all of these functions for us, so we can handle every 12-D point individually as an object.\n",
    "<font color='gray'>You can run this cell for as long as you like, as many times as you like to get a final value after integrations. It will keep going until you stop it. If you recieve an undefined error, run the previous three cells.</font>\n",
    "### __init__(self)\n",
    "This is the function that is called automatically when we initallize a new object with this class. As you can see, it is very compact thanks to the way we setup our functions: It generates four fermions, two higgsons, then gets a final value in three lines.\n",
    "### getValue(self)\n",
    "This is the function we can call to get the function evaluation of the randomized 12-D point.\n",
    "\n",
    "### <font color='red'>Please note!</font>\n",
    "If the below code returns an error due to IPython.display not being found (or if you want to see every output at every 20k iterations), use the bottom cell in this notebook."
   ]
  },
  {
   "cell_type": "code",
   "execution_count": 62,
   "metadata": {},
   "outputs": [
    {
     "name": "stdout",
     "output_type": "stream",
     "text": [
      "Average:\t 82.67731892269354 after 40000 iterations.\n"
     ]
    },
    {
     "ename": "KeyboardInterrupt",
     "evalue": "",
     "output_type": "error",
     "traceback": [
      "\u001b[1;31m---------------------------------------------------------------------------\u001b[0m",
      "\u001b[1;31mKeyboardInterrupt\u001b[0m                         Traceback (most recent call last)",
      "\u001b[1;32m<ipython-input-62-a0f86ed6b297>\u001b[0m in \u001b[0;36m<module>\u001b[1;34m\u001b[0m\n\u001b[0;32m     21\u001b[0m \u001b[0miterations\u001b[0m \u001b[1;33m=\u001b[0m \u001b[1;36m0\u001b[0m\u001b[1;33m\u001b[0m\u001b[1;33m\u001b[0m\u001b[0m\n\u001b[0;32m     22\u001b[0m \u001b[1;32mwhile\u001b[0m \u001b[1;32mTrue\u001b[0m\u001b[1;33m:\u001b[0m\u001b[1;33m\u001b[0m\u001b[1;33m\u001b[0m\u001b[0m\n\u001b[1;32m---> 23\u001b[1;33m     \u001b[0mtotal\u001b[0m \u001b[1;33m+=\u001b[0m \u001b[0mrandPoint\u001b[0m\u001b[1;33m(\u001b[0m\u001b[1;33m)\u001b[0m\u001b[1;33m.\u001b[0m\u001b[0mgetValue\u001b[0m\u001b[1;33m(\u001b[0m\u001b[1;33m)\u001b[0m\u001b[1;33m\u001b[0m\u001b[1;33m\u001b[0m\u001b[0m\n\u001b[0m\u001b[0;32m     24\u001b[0m     \u001b[0miterations\u001b[0m \u001b[1;33m+=\u001b[0m \u001b[1;36m1\u001b[0m\u001b[1;33m\u001b[0m\u001b[1;33m\u001b[0m\u001b[0m\n\u001b[0;32m     25\u001b[0m \u001b[1;33m\u001b[0m\u001b[0m\n",
      "\u001b[1;32m<ipython-input-62-a0f86ed6b297>\u001b[0m in \u001b[0;36m__init__\u001b[1;34m(self)\u001b[0m\n\u001b[0;32m      7\u001b[0m     \u001b[1;32mdef\u001b[0m \u001b[0m__init__\u001b[0m\u001b[1;33m(\u001b[0m\u001b[0mself\u001b[0m\u001b[1;33m)\u001b[0m\u001b[1;33m:\u001b[0m\u001b[1;33m\u001b[0m\u001b[1;33m\u001b[0m\u001b[0m\n\u001b[0;32m      8\u001b[0m         \u001b[1;31m# Randomize four fermions. This step includes momentum and energy conservation laws.\u001b[0m\u001b[1;33m\u001b[0m\u001b[1;33m\u001b[0m\u001b[1;33m\u001b[0m\u001b[0m\n\u001b[1;32m----> 9\u001b[1;33m         \u001b[0mself\u001b[0m\u001b[1;33m.\u001b[0m\u001b[0mferm1\u001b[0m\u001b[1;33m,\u001b[0m \u001b[0mself\u001b[0m\u001b[1;33m.\u001b[0m\u001b[0mferm2\u001b[0m\u001b[1;33m,\u001b[0m \u001b[0mself\u001b[0m\u001b[1;33m.\u001b[0m\u001b[0mferm3\u001b[0m\u001b[1;33m,\u001b[0m \u001b[0mself\u001b[0m\u001b[1;33m.\u001b[0m\u001b[0mferm4\u001b[0m \u001b[1;33m=\u001b[0m \u001b[0mpop_ferm_array\u001b[0m\u001b[1;33m(\u001b[0m\u001b[1;36m1\u001b[0m\u001b[1;33m)\u001b[0m\u001b[1;33m\u001b[0m\u001b[1;33m\u001b[0m\u001b[0m\n\u001b[0m\u001b[0;32m     10\u001b[0m         \u001b[1;31m# Generate the Higgsons.\u001b[0m\u001b[1;33m\u001b[0m\u001b[1;33m\u001b[0m\u001b[1;33m\u001b[0m\u001b[0m\n\u001b[0;32m     11\u001b[0m         \u001b[0mself\u001b[0m\u001b[1;33m.\u001b[0m\u001b[0mhigg1\u001b[0m\u001b[1;33m,\u001b[0m \u001b[0mself\u001b[0m\u001b[1;33m.\u001b[0m\u001b[0mhigg2\u001b[0m \u001b[1;33m=\u001b[0m \u001b[0mpop_higg_array\u001b[0m\u001b[1;33m(\u001b[0m\u001b[0mself\u001b[0m\u001b[1;33m.\u001b[0m\u001b[0mferm1\u001b[0m\u001b[1;33m,\u001b[0m \u001b[0mself\u001b[0m\u001b[1;33m.\u001b[0m\u001b[0mferm2\u001b[0m\u001b[1;33m,\u001b[0m \u001b[0mself\u001b[0m\u001b[1;33m.\u001b[0m\u001b[0mferm3\u001b[0m\u001b[1;33m,\u001b[0m \u001b[0mself\u001b[0m\u001b[1;33m.\u001b[0m\u001b[0mferm4\u001b[0m\u001b[1;33m)\u001b[0m\u001b[1;33m\u001b[0m\u001b[1;33m\u001b[0m\u001b[0m\n",
      "\u001b[1;32m<ipython-input-52-d6aa4bed0b0c>\u001b[0m in \u001b[0;36mpop_ferm_array\u001b[1;34m(bound)\u001b[0m\n\u001b[0;32m     26\u001b[0m         \u001b[1;31m# Initialize three (p_x, p_y, p_z, p_o) arrays to represent our randomized fermions\u001b[0m\u001b[1;33m\u001b[0m\u001b[1;33m\u001b[0m\u001b[1;33m\u001b[0m\u001b[0m\n\u001b[0;32m     27\u001b[0m         \u001b[0munnorm_ferm1\u001b[0m \u001b[1;33m=\u001b[0m \u001b[0mpop_ferm\u001b[0m\u001b[1;33m(\u001b[0m\u001b[0mbound\u001b[0m\u001b[1;33m)\u001b[0m\u001b[1;33m\u001b[0m\u001b[1;33m\u001b[0m\u001b[0m\n\u001b[1;32m---> 28\u001b[1;33m         \u001b[0munnorm_ferm2\u001b[0m \u001b[1;33m=\u001b[0m \u001b[0mpop_ferm\u001b[0m\u001b[1;33m(\u001b[0m\u001b[0mbound\u001b[0m\u001b[1;33m)\u001b[0m\u001b[1;33m\u001b[0m\u001b[1;33m\u001b[0m\u001b[0m\n\u001b[0m\u001b[0;32m     29\u001b[0m         \u001b[0munnorm_ferm3\u001b[0m \u001b[1;33m=\u001b[0m \u001b[0mpop_ferm\u001b[0m\u001b[1;33m(\u001b[0m\u001b[0mbound\u001b[0m\u001b[1;33m)\u001b[0m\u001b[1;33m\u001b[0m\u001b[1;33m\u001b[0m\u001b[0m\n\u001b[0;32m     30\u001b[0m \u001b[1;33m\u001b[0m\u001b[0m\n",
      "\u001b[1;32m<ipython-input-52-d6aa4bed0b0c>\u001b[0m in \u001b[0;36mpop_ferm\u001b[1;34m(bound)\u001b[0m\n\u001b[0;32m      6\u001b[0m     \u001b[0mferm_y\u001b[0m \u001b[1;33m=\u001b[0m \u001b[0mnp\u001b[0m\u001b[1;33m.\u001b[0m\u001b[0mrandom\u001b[0m\u001b[1;33m.\u001b[0m\u001b[0muniform\u001b[0m\u001b[1;33m(\u001b[0m\u001b[1;33m-\u001b[0m\u001b[1;36m1\u001b[0m\u001b[1;33m*\u001b[0m\u001b[0mbound\u001b[0m\u001b[1;33m,\u001b[0m \u001b[0mbound\u001b[0m\u001b[1;33m)\u001b[0m\u001b[1;33m\u001b[0m\u001b[1;33m\u001b[0m\u001b[0m\n\u001b[0;32m      7\u001b[0m     \u001b[0mferm_z\u001b[0m \u001b[1;33m=\u001b[0m \u001b[0mnp\u001b[0m\u001b[1;33m.\u001b[0m\u001b[0mrandom\u001b[0m\u001b[1;33m.\u001b[0m\u001b[0muniform\u001b[0m\u001b[1;33m(\u001b[0m\u001b[1;33m-\u001b[0m\u001b[1;36m1\u001b[0m\u001b[1;33m*\u001b[0m\u001b[0mbound\u001b[0m\u001b[1;33m,\u001b[0m \u001b[0mbound\u001b[0m\u001b[1;33m)\u001b[0m\u001b[1;33m\u001b[0m\u001b[1;33m\u001b[0m\u001b[0m\n\u001b[1;32m----> 8\u001b[1;33m     \u001b[0mferm_naught\u001b[0m \u001b[1;33m=\u001b[0m \u001b[1;33m(\u001b[0m\u001b[0mferm_x\u001b[0m\u001b[1;33m**\u001b[0m\u001b[1;36m2\u001b[0m \u001b[1;33m+\u001b[0m \u001b[0mferm_y\u001b[0m\u001b[1;33m**\u001b[0m\u001b[1;36m2\u001b[0m \u001b[1;33m+\u001b[0m \u001b[0mferm_z\u001b[0m\u001b[1;33m**\u001b[0m\u001b[1;36m2\u001b[0m\u001b[1;33m)\u001b[0m\u001b[1;33m**\u001b[0m\u001b[1;33m(\u001b[0m\u001b[1;36m1\u001b[0m\u001b[1;33m/\u001b[0m\u001b[1;36m2\u001b[0m\u001b[1;33m)\u001b[0m\u001b[1;33m\u001b[0m\u001b[1;33m\u001b[0m\u001b[0m\n\u001b[0m\u001b[0;32m      9\u001b[0m \u001b[1;33m\u001b[0m\u001b[0m\n\u001b[0;32m     10\u001b[0m     \u001b[1;31m# Return these generated values as an array (p_x, p_y, p_z, p_o)\u001b[0m\u001b[1;33m\u001b[0m\u001b[1;33m\u001b[0m\u001b[1;33m\u001b[0m\u001b[0m\n",
      "\u001b[1;31mKeyboardInterrupt\u001b[0m: "
     ]
    }
   ],
   "source": [
    "try:\n",
    "    from IPython.display import clear_output\n",
    "except:\n",
    "    print('IPython display is not installed. But we caught it.')\n",
    "\n",
    "class randPoint:\n",
    "    def __init__(self):\n",
    "        # Randomize four fermions. This step includes momentum and energy conservation laws.\n",
    "        self.ferm1, self.ferm2, self.ferm3, self.ferm4 = pop_ferm_array(1)\n",
    "        # Generate the Higgsons.\n",
    "        self.higg1, self.higg2 = pop_higg_array(self.ferm1, self.ferm2, self.ferm3, self.ferm4)\n",
    "        \n",
    "        # Plug into the equation.\n",
    "        self.value = do_calc(self.higg1, self.higg2)\n",
    "    \n",
    "    def getValue(self):\n",
    "        # We can use this to retrieve the value given these four fermions.\n",
    "        return self.value\n",
    "    \n",
    "total = 0\n",
    "iterations = 0\n",
    "while True:\n",
    "    total += randPoint().getValue()\n",
    "    iterations += 1\n",
    "    \n",
    "    if iterations%20000 == 0:\n",
    "        try:\n",
    "            clear_output(wait=True)\n",
    "        except:\n",
    "            pass\n",
    "        print('Average:\\t', total/iterations, 'after', iterations, 'iterations.')"
   ]
  },
  {
   "cell_type": "markdown",
   "metadata": {},
   "source": [
    "# For compactness, the entire code is given below and also included in the email as a .py file"
   ]
  },
  {
   "cell_type": "code",
   "execution_count": 52,
   "metadata": {},
   "outputs": [
    {
     "name": "stdout",
     "output_type": "stream",
     "text": [
      "Average:\t 82.78131787342623 after 20000 iterations.\n"
     ]
    },
    {
     "ename": "NameError",
     "evalue": "name 'console' is not defined",
     "output_type": "error",
     "traceback": [
      "\u001b[1;31m---------------------------------------------------------------------------\u001b[0m",
      "\u001b[1;31mNameError\u001b[0m                                 Traceback (most recent call last)",
      "\u001b[1;32m<ipython-input-52-d6aa4bed0b0c>\u001b[0m in \u001b[0;36m<module>\u001b[1;34m\u001b[0m\n\u001b[0;32m     89\u001b[0m     \u001b[1;32mif\u001b[0m \u001b[0miterations\u001b[0m\u001b[1;33m%\u001b[0m\u001b[1;36m20000\u001b[0m \u001b[1;33m==\u001b[0m \u001b[1;36m0\u001b[0m\u001b[1;33m:\u001b[0m\u001b[1;33m\u001b[0m\u001b[1;33m\u001b[0m\u001b[0m\n\u001b[0;32m     90\u001b[0m         \u001b[0mprint\u001b[0m\u001b[1;33m(\u001b[0m\u001b[1;34m'Average:\\t'\u001b[0m\u001b[1;33m,\u001b[0m \u001b[0mtotal\u001b[0m\u001b[1;33m/\u001b[0m\u001b[0miterations\u001b[0m\u001b[1;33m,\u001b[0m \u001b[1;34m'after'\u001b[0m\u001b[1;33m,\u001b[0m \u001b[0miterations\u001b[0m\u001b[1;33m,\u001b[0m \u001b[1;34m'iterations.'\u001b[0m\u001b[1;33m)\u001b[0m\u001b[1;33m\u001b[0m\u001b[1;33m\u001b[0m\u001b[0m\n\u001b[1;32m---> 91\u001b[1;33m         \u001b[0mconsole\u001b[0m\u001b[1;33m.\u001b[0m\u001b[0mlog\u001b[0m\u001b[1;33m(\u001b[0m\u001b[1;34m'Average:\\t'\u001b[0m\u001b[1;33m,\u001b[0m \u001b[0mtotal\u001b[0m\u001b[1;33m/\u001b[0m\u001b[0miterations\u001b[0m\u001b[1;33m,\u001b[0m \u001b[1;34m'after'\u001b[0m\u001b[1;33m,\u001b[0m \u001b[0miterations\u001b[0m\u001b[1;33m,\u001b[0m \u001b[1;34m'iterations. ctrl+C to quit.'\u001b[0m\u001b[1;33m)\u001b[0m\u001b[1;33m\u001b[0m\u001b[1;33m\u001b[0m\u001b[0m\n\u001b[0m",
      "\u001b[1;31mNameError\u001b[0m: name 'console' is not defined"
     ]
    }
   ],
   "source": [
    "import numpy as np\n",
    "\n",
    "def pop_ferm(bound):\n",
    "    # Generate 3 random momenta and an energy component\n",
    "    ferm_x = np.random.uniform(-1*bound, bound)\n",
    "    ferm_y = np.random.uniform(-1*bound, bound)\n",
    "    ferm_z = np.random.uniform(-1*bound, bound)\n",
    "    ferm_naught = (ferm_x**2 + ferm_y**2 + ferm_z**2)**(1/2)\n",
    "    \n",
    "    # Return these generated values as an array (p_x, p_y, p_z, p_o)\n",
    "    return [ferm_x, ferm_y, ferm_z, ferm_naught]\n",
    "\n",
    "def pop_ferm4(ferm1, ferm2, ferm3):\n",
    "    # Calculate 3 momenta based on conservation laws\n",
    "    ferm4_x = ferm1[0] + ferm2[0] + ferm3[0]\n",
    "    ferm4_y = ferm1[1] + ferm2[1] + ferm3[1]\n",
    "    ferm4_z = ferm1[2] + ferm2[2] + ferm3[2]\n",
    "    ferm4_naught = (ferm4_x**2 + ferm4_y**2 + ferm4_z**2)**(1/2)\n",
    "    \n",
    "    # Return these calculated values as an array (p_x, p_y, p_z, p_o)\n",
    "    return [ferm4_x, ferm4_y, ferm4_z, ferm4_naught]\n",
    "\n",
    "def pop_ferm_array(bound):\n",
    "    # A while loop is used to randomize until conservation laws are satisfied\n",
    "    while True:\n",
    "        # Initialize three (p_x, p_y, p_z, p_o) arrays to represent our randomized fermions\n",
    "        unnorm_ferm1 = pop_ferm(bound)\n",
    "        unnorm_ferm2 = pop_ferm(bound)\n",
    "        unnorm_ferm3 = pop_ferm(bound)\n",
    "        \n",
    "        # Calculate the third (p_x, p_y, p_z, p_o) array to represent the fourth fermion\n",
    "        unnorm_ferm4 = pop_ferm4(unnorm_ferm1, unnorm_ferm2, unnorm_ferm3)\n",
    "        \n",
    "        # Check conservation laws are satisfied |p_x|, |p_y|, |p_z| < 1. If not, the loop starts anew\n",
    "        if abs(unnorm_ferm4[0]) < 1 and abs(unnorm_ferm4[1]) < 1 and abs(unnorm_ferm4[2]) < 1:\n",
    "            return normalize(unnorm_ferm1, unnorm_ferm2, unnorm_ferm3, unnorm_ferm4)\n",
    "        \n",
    "def normalize(ferm1_unnorm, ferm2_unnorm, ferm3_unnorm, ferm4_unnorm):\n",
    "    # Sum the energy components of all four fermions as the normalization factor\n",
    "    energy = (ferm1_unnorm[3]+ferm2_unnorm[3]+ferm3_unnorm[3]+ferm4_unnorm[3])\n",
    "    \n",
    "    # Populate new arrays which have the same elements as before, divided by the normalization factor\n",
    "    ferm1 = [ferm1_unnorm[0]/energy, ferm1_unnorm[1]/energy, ferm1_unnorm[2]/energy, ferm1_unnorm[3]/energy]\n",
    "    ferm2 = [ferm2_unnorm[0]/energy, ferm2_unnorm[1]/energy, ferm2_unnorm[2]/energy, ferm2_unnorm[3]/energy]\n",
    "    ferm3 = [ferm3_unnorm[0]/energy, ferm3_unnorm[1]/energy, ferm3_unnorm[2]/energy, ferm3_unnorm[3]/energy]\n",
    "    ferm4 = [ferm4_unnorm[0]/energy, ferm4_unnorm[1]/energy, ferm4_unnorm[2]/energy, ferm4_unnorm[3]/energy]\n",
    "    \n",
    "    # Return the normalized fermions\n",
    "    return ferm1, ferm2, ferm3, ferm4\n",
    "\n",
    "def pop_higg_array(ferm1, ferm2, ferm3, ferm4):\n",
    "    # Populate the Higgson's components through addition\n",
    "    higg1 = [ferm1[0]+ferm2[0], ferm1[1]+ferm2[1], ferm1[2]+ferm2[2], ferm1[3]+ferm2[3]]\n",
    "    higg2 = [ferm3[0]+ferm4[0], ferm3[1]+ferm4[1], ferm3[2]+ferm4[2], ferm3[3]+ferm4[3]]\n",
    "    \n",
    "    # Return the Higgsons\n",
    "    return higg1, higg2\n",
    "\n",
    "def do_calc(higg1, higg2):\n",
    "    # Calculate each denominator separately for compactness\n",
    "    denom1 = (higg1[3]**2-(higg1[0]**2+higg1[1]**2+higg1[2]**2)-0.5**2)**2+0.1**2\n",
    "    denom2 = (higg2[3]**2-(higg2[0]**2+higg2[1]**2+higg2[2]**2)-0.5**2)**2+0.1**2\n",
    "    \n",
    "    # Return the result\n",
    "    return 1/denom1+1/denom2\n",
    "\n",
    "class randPoint:\n",
    "    def __init__(self):\n",
    "        # Randomize four fermions. This step includes momentum and energy conservation laws.\n",
    "        self.ferm1, self.ferm2, self.ferm3, self.ferm4 = pop_ferm_array(1)\n",
    "        # Generate the Higgsons.\n",
    "        self.higg1, self.higg2 = pop_higg_array(self.ferm1, self.ferm2, self.ferm3, self.ferm4)\n",
    "        \n",
    "        # Plug into the equation.\n",
    "        self.value = do_calc(self.higg1, self.higg2)\n",
    "    \n",
    "    def getValue(self):\n",
    "        # We can use this to retrieve the value given these four fermions.\n",
    "        return self.value\n",
    "\n",
    "#---------------------------------------------------------------------------------------------------------------------------\n",
    "    \n",
    "total = 0\n",
    "iterations = 0\n",
    "while True:\n",
    "    total += randPoint().getValue()\n",
    "    iterations += 1\n",
    "    \n",
    "    if iterations%20000 == 0:\n",
    "        try:\n",
    "            print('Average:\\t', total/iterations, 'after', iterations, 'iterations. ctrl+c to quit', flush=True)\n",
    "        except:\n",
    "            print('Average:\\t', total/iterations, 'after', iterations, 'iterations. ctrl+c to quit')"
   ]
  },
  {
   "cell_type": "code",
   "execution_count": null,
   "metadata": {},
   "outputs": [],
   "source": []
  }
 ],
 "metadata": {
  "kernelspec": {
   "display_name": "Python 3",
   "language": "python",
   "name": "python3"
  },
  "language_info": {
   "codemirror_mode": {
    "name": "ipython",
    "version": 3
   },
   "file_extension": ".py",
   "mimetype": "text/x-python",
   "name": "python",
   "nbconvert_exporter": "python",
   "pygments_lexer": "ipython3",
   "version": "3.7.6"
  }
 },
 "nbformat": 4,
 "nbformat_minor": 4
}
